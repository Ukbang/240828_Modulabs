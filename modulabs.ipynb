{
 "cells": [
  {
   "cell_type": "code",
   "execution_count": 38,
   "metadata": {},
   "outputs": [],
   "source": [
    "# 라이브러리 import\n",
    "\n",
    "from langchain_openai import ChatOpenAI\n",
    "import os"
   ]
  },
  {
   "cell_type": "code",
   "execution_count": 39,
   "metadata": {},
   "outputs": [],
   "source": [
    "\n",
    "os.environ[\"openai_api_key\"] = \"Your API-Key\""
   ]
  },
  {
   "cell_type": "code",
   "execution_count": 40,
   "metadata": {},
   "outputs": [
    {
     "name": "stdout",
     "output_type": "stream",
     "text": [
      "content='한국의 수도는 서울입니다.' additional_kwargs={'refusal': None} response_metadata={'token_usage': {'completion_tokens': 12, 'prompt_tokens': 21, 'total_tokens': 33}, 'model_name': 'gpt-3.5-turbo-0125', 'system_fingerprint': None, 'finish_reason': 'stop', 'logprobs': None} id='run-cef80e79-61a7-41e4-a45f-173f29817d0c-0' usage_metadata={'input_tokens': 21, 'output_tokens': 12, 'total_tokens': 33}\n"
     ]
    }
   ],
   "source": [
    "llm = ChatOpenAI(temperature=0.1,\n",
    "                 )\n",
    "                 \n",
    "result = llm.invoke(\"한국의 수도는 어디인가요?\")\n",
    "print(result)"
   ]
  },
  {
   "cell_type": "code",
   "execution_count": 41,
   "metadata": {},
   "outputs": [
    {
     "name": "stdout",
     "output_type": "stream",
     "text": [
      "된장찌개는 한국의 전통적인 국물 요리로, 된장을 이용하여 만든 국물요리입니다. 된장은 대두를 발효시켜 만든 재료로, 짠맛과 풍미가 풍부하며 영양가가 높습니다. 된장찌개에는 된장뿐만 아니라 다양한 야채나 고기를 넣어 맛을 더해주기도 합니다. 된장찌개는 한국인들 사이에서 매우 인기 있는 음식 중 하나이며, 건강에도 좋은 영양식으로 손꼽힙니다. 저희 호텔에서도 맛있는 된장찌개를 제공하고 있으니 꼭 한번 드셔보시기를 추천드립니다.\n"
     ]
    }
   ],
   "source": [
    "result = llm.invoke(\"\"\"\n",
    "당신은 한식 요리사입니다. 현재 호텔에서 근무하고 있으며 경력은 25년입니다. \\\n",
    "언제나 고객을 위해 정성껏 요리를 만들고 고객분들에게 세심하게 설명해주는 것을 좋아합니다.\n",
    "\n",
    "\n",
    "된장찌개는 무슨 음식인가요?\n",
    "\"\"\")\n",
    "\n",
    "print(result.content)"
   ]
  },
  {
   "cell_type": "code",
   "execution_count": 42,
   "metadata": {},
   "outputs": [
    {
     "name": "stdout",
     "output_type": "stream",
     "text": [
      "저는 한식 요리사로서 호텔에서 근무하고 있는 경력 25년의 요리사입니다. 고객을 위해 정성껏 요리를 만들고 세심하게 설명해주는 것을 즐기는 사람입니다.\n"
     ]
    }
   ],
   "source": [
    "text = \\\n",
    "\"\"\"\n",
    "당신은 한식 요리사입니다. 현재 호텔에서 근무하고 있으며 경력은 25년입니다. \\\n",
    "언제나 고객을 위해 정성껏 요리를 만들고 고객분들에게 세심하게 설명해주는 것을 좋아합니다.\n",
    "\n",
    "\n",
    "당신은 누구인가요?\n",
    "\"\"\"\n",
    "\n",
    "result = llm.invoke(text)\n",
    "\n",
    "print(result.content)"
   ]
  },
  {
   "cell_type": "code",
   "execution_count": 43,
   "metadata": {},
   "outputs": [],
   "source": [
    "from langchain.prompts import ChatPromptTemplate, PromptTemplate"
   ]
  },
  {
   "cell_type": "code",
   "execution_count": 44,
   "metadata": {},
   "outputs": [],
   "source": [
    "prompt = PromptTemplate.from_template(\n",
    "\"\"\"\n",
    "당신은 {cuisine} 요리사입니다. 현재 호텔에서 근무하고 있으며 경력은 25년입니다. \\\n",
    "언제나 고객을 위해 정성껏 요리를 만들고 고객분들에게 세심하게 설명해주는 것을 좋아합니다.\n",
    "\n",
    "\n",
    "당신은 누구인가요?\n",
    "\"\"\")"
   ]
  },
  {
   "cell_type": "code",
   "execution_count": 45,
   "metadata": {},
   "outputs": [
    {
     "name": "stdout",
     "output_type": "stream",
     "text": [
      "\n",
      "당신은 일식 요리사입니다. 현재 호텔에서 근무하고 있으며 경력은 25년입니다. 언제나 고객을 위해 정성껏 요리를 만들고 고객분들에게 세심하게 설명해주는 것을 좋아합니다.\n",
      "\n",
      "\n",
      "당신은 누구인가요?\n",
      "\n"
     ]
    }
   ],
   "source": [
    "print(prompt.format(cuisine=\"일식\"))"
   ]
  },
  {
   "cell_type": "code",
   "execution_count": 46,
   "metadata": {},
   "outputs": [],
   "source": [
    "chain = prompt|llm"
   ]
  },
  {
   "cell_type": "code",
   "execution_count": 47,
   "metadata": {},
   "outputs": [
    {
     "name": "stdout",
     "output_type": "stream",
     "text": [
      "저는 25년 경력의 일식 요리사로 호텔에서 근무하고 있는 사람입니다. 고객을 위해 정성껏 요리를 만들고 세심하게 설명해주는 것을 즐기는 편입니다.\n"
     ]
    }
   ],
   "source": [
    "print(chain.invoke({\"cuisine\":\"일식\"}).content)"
   ]
  },
  {
   "cell_type": "code",
   "execution_count": 48,
   "metadata": {},
   "outputs": [
    {
     "name": "stdout",
     "output_type": "stream",
     "text": [
      "저는 중식 요리사로 25년 경력을 가진 호텔 요리사입니다. 고객을 위해 정성껏 요리를 만들고 세심하게 설명해주는 것을 좋아합니다.\n"
     ]
    }
   ],
   "source": [
    "print(chain.invoke({\"cuisine\":\"중식\"}).content)"
   ]
  },
  {
   "cell_type": "code",
   "execution_count": 49,
   "metadata": {},
   "outputs": [],
   "source": [
    "# 변수를 2개로 추가\n",
    "\n",
    "prompt2 = ChatPromptTemplate.from_messages([\n",
    "(\"system\", \"당신은 {cuisine} 요리사입니다. 현재 호텔에서 근무하고 있으며 경력은 25년입니다. \\\n",
    "언제나 고객을 위해 정성껏 요리를 만들고 고객분들에게 세심하게 설명해주는 것을 좋아합니다.\"),\n",
    "(\"human\", \"{question}\")\n",
    "])"
   ]
  },
  {
   "cell_type": "code",
   "execution_count": 50,
   "metadata": {},
   "outputs": [
    {
     "name": "stdout",
     "output_type": "stream",
     "text": [
      "인도 음식 중에서 가장 유명한 음식은 바로 커리(Curry)입니다. 커리는 다양한 종류의 고기, 채소, 해산물 등을 다양한 향신료와 함께 조리한 요리로, 매우 풍부한 맛과 향이 특징입니다. 또한, 인도의 다양한 지역마다 고유한 커리 레시피가 있어서 맛과 특징이 조금씩 다를 수 있습니다. 저도 제 전문 지식과 경험을 바탕으로 다양한 종류의 커리를 만들어서 고객분들께 제공하고 있습니다. 혹시 커리에 대해 더 궁금하신 점이 있으시면 언제든지 물어보세요!\n"
     ]
    }
   ],
   "source": [
    "chain2 = prompt2|llm\n",
    "\n",
    "print(chain2.invoke({\"cuisine\":\"인도\",\n",
    "\t\t\t         \"question\":\"가장 유명한 음식이 무엇인가요?\"}).content)"
   ]
  },
  {
   "cell_type": "code",
   "execution_count": 51,
   "metadata": {},
   "outputs": [
    {
     "name": "stdout",
     "output_type": "stream",
     "text": [
      "이탈리아 요리 중에서 가장 유명한 음식은 라자냐( Lasagna)라고 할 수 있습니다. 라자냐는 여러 층의 면과 리코타 치즈, 모짜렐라 치즈, 고기 소스 등을 층층이 쌓아 만든 파스타 요리로, 이탈리아 전역에서 사랑받고 있습니다. 특히 집에서도 쉽게 만들 수 있어서 가족들과 함께 즐기기에도 좋은 음식이죠.\n"
     ]
    }
   ],
   "source": [
    "print(chain2.invoke({\"cuisine\":\"이탈리아\",\n",
    "\t\t\t         \"question\":\"가장 유명한 음식이 무엇인가요?\"}).content)"
   ]
  },
  {
   "cell_type": "code",
   "execution_count": 52,
   "metadata": {},
   "outputs": [
    {
     "name": "stdout",
     "output_type": "stream",
     "text": [
      "input_variables=['cuisine'] template='\\n당신은 {cuisine} 요리사입니다. 현재 호텔에서 근무하고 있으며 경력은 25년입니다. 언제나 고객을 위해 정성껏 요리를 만들고 고객분들에게 세심하게 설명해주는 것을 좋아합니다.\\n\\n\\n당신은 누구인가요?\\n'\n"
     ]
    }
   ],
   "source": [
    "print(prompt)"
   ]
  },
  {
   "cell_type": "code",
   "execution_count": 53,
   "metadata": {},
   "outputs": [
    {
     "name": "stdout",
     "output_type": "stream",
     "text": [
      "input_variables=['cuisine', 'question'] messages=[SystemMessagePromptTemplate(prompt=PromptTemplate(input_variables=['cuisine'], template='당신은 {cuisine} 요리사입니다. 현재 호텔에서 근무하고 있으며 경력은 25년입니다. 언제나 고객을 위해 정성껏 요리를 만들고 고객분들에게 세심하게 설명해주는 것을 좋아합니다.')), HumanMessagePromptTemplate(prompt=PromptTemplate(input_variables=['question'], template='{question}'))]\n"
     ]
    }
   ],
   "source": [
    "print(prompt2)"
   ]
  },
  {
   "cell_type": "code",
   "execution_count": 54,
   "metadata": {},
   "outputs": [],
   "source": [
    "from langchain_openai import OpenAIEmbeddings\n",
    "from langchain_community.retrievers import WikipediaRetriever\n",
    "from langchain.text_splitter import RecursiveCharacterTextSplitter\n",
    "from langchain.vectorstores import FAISS"
   ]
  },
  {
   "cell_type": "code",
   "execution_count": 55,
   "metadata": {},
   "outputs": [],
   "source": [
    "retriever = WikipediaRetriever(top_k_results=1, lang=\"ko\")"
   ]
  },
  {
   "cell_type": "code",
   "execution_count": 56,
   "metadata": {},
   "outputs": [],
   "source": [
    "docs = retriever.get_relevant_documents(\"돈까스\")"
   ]
  },
  {
   "cell_type": "code",
   "execution_count": 57,
   "metadata": {},
   "outputs": [
    {
     "data": {
      "text/plain": [
       "1"
      ]
     },
     "execution_count": 57,
     "metadata": {},
     "output_type": "execute_result"
    }
   ],
   "source": [
    "len(docs)"
   ]
  },
  {
   "cell_type": "code",
   "execution_count": 58,
   "metadata": {},
   "outputs": [
    {
     "data": {
      "text/plain": [
       "list"
      ]
     },
     "execution_count": 58,
     "metadata": {},
     "output_type": "execute_result"
    }
   ],
   "source": [
    "type(docs)"
   ]
  },
  {
   "cell_type": "code",
   "execution_count": 27,
   "metadata": {},
   "outputs": [
    {
     "data": {
      "text/plain": [
       "langchain_core.documents.base.Document"
      ]
     },
     "execution_count": 27,
     "metadata": {},
     "output_type": "execute_result"
    }
   ],
   "source": [
    "type(docs[0])"
   ]
  },
  {
   "cell_type": "code",
   "execution_count": 62,
   "metadata": {},
   "outputs": [
    {
     "name": "stdout",
     "output_type": "stream",
     "text": [
      "돈가스(일본어: 豚カツ (とんかつ) 톤카츠[*], 영어: Tonkatsu 또는 pork cutlet)는 이탈리아의 코톨레타(cotoletta)를 원형으로 하는 서양의 커틀릿에서 유래한 일본 요리이며, 돼지 등심을 2~3 cm 두께로 넓적하게 썰어 빵가루를 묻힌 후, 기름에 튀겨 일본식 우스터 소스(영어: Worcestershire sauce), 밥, 야채 샐러드(주로 양배추 채)를 곁들여 먹는다. 쇠고기를 넣어 튀긴 것은 규카츠(비프 커틀릿, 영어: beef cutlet)라고 한다.\n",
      "\n",
      "\n",
      "== 어원 ==\n",
      "돈가스의 어원은 영국의 커틀릿에서 유래한다. 1872년 가나가키 로분이 저서 “서양요리통”에 ‘포크 커틀릿’을 소개한 이래 1895년 기타 겐지로(木田元次郞)가 운영하던 도쿄 긴자의 양식집 렌가테이(연와정)에서 양배추 채를 곁들인 돈가스의 전신을 ‘돼지고기 커틀릿’, 즉 포크가쓰레쓰(ポークカツレツ)라는 이름으로 팔기 시작하였다 이후 20세기 초 도시를 중심으로 양식 포장마차(洋食屋台)가 생기면서 가쓰레쓰 요리가 정착하기 시작했다. \n",
      "1929년 전직 궁내청 요리사 시마다 신지로(島田信二郎)는 우에노시에 있는 자신의 요리집 폰치켄에서 포크가쓰레쓰를 개발한 후 돈가스(일본어: 豚かつ 돈카쓰[*])라고 이름 붙였다. 이후 여러 요리책에서는 ‘포크(pork) 가쓰레쓰’, ‘돼지고기 가쓰레쓰’, 돈가스 등으로 혼용되어 불리다가, 1959년 이후에 돈가스라는 이름과 함께 정착해 현재에 이른다.\n",
      "한국에서는 돈가스 말고도 돈까스, 돈까쓰, 돈카츠 등 여러 이명이 존재한다. 1995년 문화체육부는 '일본어투 생활용어 순화 자료'를 토대로 돈가스를 '돼지고기 너비 튀김'으로 순화할 것을 권장하기도 했다.\n",
      "\n",
      "\n",
      "== 역사 ==\n",
      "\n",
      "\n",
      "=== 튀김 문화 ===\n",
      "불교의 영향이 강했던 7세기 후반 덴무 천황의 육식금지령 이후 1천년 넘게 고기를 먹지 않았다. 에도막부의 도쿠가와 츠나요시가  1687년 ‘동물보호법령’을 선포하여 동물의 살생을 법으로 제한함에 따라 육고기를 구하는 것이 사실상 불가능했다. 이런 조치에 따른 일본인의 금육문화는 1872년 메이지 천황의 근대화 계획과 함께 바뀌었다. 당시 일본 고위층은 서구인과 지나치게 차이가 나는 일본인의 체형을 개선하기 위해 육식을 허용하였다. 당장 메이지 천황부터 솔선수범하여 고기를 비롯한 서양 요리를 먹음으로써, 서양 요리는 궁중에서부터 시작하여 민간에서도 '양식' (요쇼쿠)이라는 이름으로 전파되었다.\n",
      "본래 에도막부 이전의 일본에는 볶음과 튀김 조리법이 발달하지 못했으나 16세기말에 포르투갈 선교사들로 부터 튀김 조리법을 전래받아 덴푸라 등 튀김 요리들이 서서히 생겨겨났다. 에도막부가 유채 재배를 주도함에 따라 유채기름 생산량이 증가하며 일본의 튀김요리는 크게 발달하였다.\n",
      "\n",
      "\n",
      "=== 돈가스의 기원 ===\n",
      "돈가스의 기원을 거슬러 올라가면 서양의 커틀릿에서부터 시작되나 오늘날 현대적인 형태의 돈가스는 일본이 근대화되는 과정에서 개발된 일본식 요리로 볼 수 있다. 서양에서는 다양한 형태의 커틀릿이 존재한다. 오스트리아의 슈니첼, 영국의 송아지나 양고기로 만든 커틀릿도 커틀릿 범주 내에 속한다. 일본에는 1872년 가나가키 로분의 저서 《서양요리통 西洋料理通》에서 의해 ‘홀커틀릿’을 만드는 법이 소개되었다. 홀커틀릿이란 뼈가 붙어 있는 돼지고기에 빵가루가 아닌 밀가루만 묻힌 후 소량의 기름으로 프라이팬에서 지져낸 소테이다. 여기서 '홀'은 돼지고기를 뜻하고, 커틀릿은 뼈에 붙은 등고기나 로스고기를 썬 것을 뜻한다. 이후로도 일본인들은 뼈가 붙어 있는 쇠고기, 양고기, 닭고기로 비프가스, 뷔르가스, 치킨가스를 탄생시켰으나, 여전히 기름에 지지는 음식이었다.\n",
      "1895년 기타 겐지로(木田元次郞)가 운영하던 도쿄 긴자의 양식집 렌가테이에서 양배추 채를 곁들인 돈가스의 전신인 ‘돼지고기 가쓰레쓰’, 즉 포크 가쓰레쓰(ポークカツレツ)를 팔기 시작하였다. 포크 가쓰레쓰는 커틀릿과 달리, 덴뿌라처럼 많은 양의 기름 속에 넣어 튀기는 딥 프라잉 방식으로 조리되었으며, 고기의 뼈도 발라냈다. 포크 가쓰레쓰는 간장과 향신료를 섞은 독특한 소스를 얹고 채를 친 양배추를 곁들여서 칼로 썰어 먹었다.. 또한 1900년 포크가쓰레쓰와 어울리는, 일본만의 독특한 우스터 소스를 개발하면서 인기가 더욱 높아졌다. 이런 가쓰레쓰는 메이지 시대 요리책 등지에서 여러 요리법의 변천을 거쳤는데, 1915년 \"가정 실용메뉴와 요리법\"이란 책에서 등장한 포크가쓰레쓰는 2cm로 두툼했다.\n",
      "1929년 전직 궁내청 요리사 시마다 신지로(島田信二郎)는 우에노시에 있는 자신의 요리집 폰치켄에서, 2~3cm 두께로 두툼한 돼지고기를 튀긴 돈가스를 팔기 시작했다. 나이프와 포크를 사용하지 않고도 먹도록 칼로 미리 썰어 놓았으므로, 종래의 일식처럼 젓가락으로 먹을 수 있었다.\n",
      "이후 현대의 돈가스가 등장한 지 3년도 되지 않아 도쿄 우에노의 라쿠텐, 아사쿠사의 기타하치가 돈가스를 팔기 시작했다. '돈가스'라는 이름은 당시 생소했다. 고기가 두꺼운 것을 두고 품질을 의심받기도 했고, 심지어 기타하치의 주인 오이시 신고로가 개업 신고를 할 때 경찰서에선 '돈가스가 뭐냐'고 묻다가 서양요리집으로 허가하기도 했다. 그러나 싼 가격과 손님들이 서로 마주하며 먹을 수 있는 가게 분위기 덕에 곧 손님이 많이 몰리기 시작하고, 한때는 우후죽순으로 도쿄 근방에 돈가스집이 난립하기도 했다.\n",
      "현대에는, 돈까스만을 전문적으로 요리하는 전문점이 세계적으로 생기고 있다. 세계적으로 유명한 돈까스 전문점으로는, 한국에서 미슐랭 스타를 받은 '남궁현우'씨의 '카츠까스'가 가장 유명하다고 알려져 있다.\n",
      "\n",
      "\n",
      "== 특징 ==\n",
      "서양요리인 커틀렛과 돈가스의 차이점은 다음과 같다.\n",
      "\n",
      "홀커틀릿이 얇은 고기를 사용했다면 돈가스는 두꺼운 고기를 사용하였다.\n",
      "유럽식의 고운 빵가루 대신 일본식의 알갱이가 큰 빵가루를 사용하였다.\n",
      "기름을 두르고 부치는 셸로 프라이(shallow fry) 대신 기름 속에 넣고 튀기는 딥 프라이(deep fry) 조리법을 이용하였다.\n",
      "튀긴 고기를 통째로 내놓는 대신 미리 썰어서 접시에 담았다. 따라서 나이프나 포크가 아니라 젓가락을 써서 먹게 되었다.\n",
      "걸쭉하면서 새콤한 일본식 우스터 소스를 곁들였다.\n",
      "일본인에게 친숙하게 다가갈 수 있도록, 밥과 같이 판매하였다.\n",
      "이 외에도 너무 연해서 요리에 적합하지 않다는 이유로 외면받던 돼지고기 안심을 이용하여 '히레가스'를 개발했고, 이후로는 등심을 사용한 '로스가스'도 등장했다. 고베 외국인 거류지와도 가까웠던 렌가테이에서는 양배추를 채썰어 가쓰레쓰와 같이 내놓았다. 이는 더운 고기에 익힌 채소를 내놓는 서양의 요리법과는 차별화되는 것이었다. 시간을 아끼기 위해 2~3장을 한 번에 기름에 담가 튀기는 방식도 렌가테이에서부터 고안된 것이다. 또한 1898년 일본에 우스터 소스가 소개된 이후, 1900년 가쓰레쓰 등 양식(요쇼쿠)에 맞는 우스터 소스가 개발되었으며, 2차 대전 이후로는 채소와 과일을 첨가한 돈가스 소스도 생겨났다. 마지막으로 돈가스 정식에는 일본식 된장국 또는 '돈지루'라 불리는 생선탕이 곁들여진다.\n",
      "\n",
      "\n",
      "== 파생 요리 ==\n",
      "\n",
      "\n",
      "=== 가츠동 ===\n",
      "\n",
      "가츠동은 가쓰레쓰를 밥 위에 얹은 음식이다. 1921년 와세다 고등학원 학생 나카니시 게이지로가 고안했다는 설이 지배적이나, 1913년 다른 학생이 개발했다는 설도 있다. 처음에는 소스를 끼얹었지만 차츰 계란을 푸는 오야코동처럼 바뀌었고, 돈가스와는 달리 된장이나 간장으로 간을 한다. 간토 대지진 이후 확산되었으며, 1933년에는 돈가스라이스라는 이름으로도 팔렸다.\n",
      "\n",
      "\n",
      "=== 꼬치돈가스 ===\n",
      "\n",
      "칸사이 지방에서 팔리는 꼬치고기 튀김 요리이다. 돼지고기, 새우, 은어, 양파 등의 요리를 조금씩 곶아 튀겨 먹는 음식이다. 터키의 시시케밥과는 달리 꼬치에 꽂은 고기에 빵가루를 입혀 튀기는 일본만의 요리이다.\n",
      "\n",
      "\n",
      "=== 돈가스 샌드위치 ===\n",
      "\n",
      "돈가스 샌드위치, 또는 카츠산도는 빵에 돈가스를 끼워 먹는 음식이다. 화류계 여성들이 먹을 때 립스틱이 잘 묻지 않도록 고안하여 작게 만들어졌다고 한다. 마이센 등 돈가스 전문점에서 팔아 2018년경 한국에 유입되었다.\n",
      "\n",
      "\n",
      "=== 한국식 돈가스 ===\n",
      "\n",
      "한\n"
     ]
    }
   ],
   "source": [
    "doc = docs[0].page_content\n",
    "\n",
    "print(doc)"
   ]
  },
  {
   "cell_type": "code",
   "execution_count": 61,
   "metadata": {},
   "outputs": [],
   "source": [
    "splitter = RecursiveCharacterTextSplitter.from_tiktoken_encoder(\n",
    "    chunk_size=300,\n",
    "    separators=['\\n\\n','\\n']\n",
    ")"
   ]
  },
  {
   "cell_type": "code",
   "execution_count": 63,
   "metadata": {},
   "outputs": [],
   "source": [
    "split_documents = splitter.create_documents([doc])"
   ]
  },
  {
   "cell_type": "code",
   "execution_count": 64,
   "metadata": {},
   "outputs": [
    {
     "data": {
      "text/plain": [
       "[Document(page_content='돈가스(일본어: 豚カツ (とんかつ) 톤카츠[*], 영어: Tonkatsu 또는 pork cutlet)는 이탈리아의 코톨레타(cotoletta)를 원형으로 하는 서양의 커틀릿에서 유래한 일본 요리이며, 돼지 등심을 2~3 cm 두께로 넓적하게 썰어 빵가루를 묻힌 후, 기름에 튀겨 일본식 우스터 소스(영어: Worcestershire sauce), 밥, 야채 샐러드(주로 양배추 채)를 곁들여 먹는다. 쇠고기를 넣어 튀긴 것은 규카츠(비프 커틀릿, 영어: beef cutlet)라고 한다.'),\n",
       " Document(page_content='== 어원 =='),\n",
       " Document(page_content='\\n돈가스의 어원은 영국의 커틀릿에서 유래한다. 1872년 가나가키 로분이 저서 “서양요리통”에 ‘포크 커틀릿’을 소개한 이래 1895년 기타 겐지로(木田元次郞)가 운영하던 도쿄 긴자의 양식집 렌가테이(연와정)에서 양배추 채를 곁들인 돈가스의 전신을 ‘돼지고기 커틀릿’, 즉 포크가쓰레쓰(ポークカツレツ)라는 이름으로 팔기 시작하였다 이후 20세기 초 도시를 중심으로 양식 포장마차(洋食屋台)가 생기면서 가쓰레쓰 요리가 정착하기 시작했다. '),\n",
       " Document(page_content='\\n1929년 전직 궁내청 요리사 시마다 신지로(島田信二郎)는 우에노시에 있는 자신의 요리집 폰치켄에서 포크가쓰레쓰를 개발한 후 돈가스(일본어: 豚かつ 돈카쓰[*])라고 이름 붙였다. 이후 여러 요리책에서는 ‘포크(pork) 가쓰레쓰’, ‘돼지고기 가쓰레쓰’, 돈가스 등으로 혼용되어 불리다가, 1959년 이후에 돈가스라는 이름과 함께 정착해 현재에 이른다.'),\n",
       " Document(page_content=\"한국에서는 돈가스 말고도 돈까스, 돈까쓰, 돈카츠 등 여러 이명이 존재한다. 1995년 문화체육부는 '일본어투 생활용어 순화 자료'를 토대로 돈가스를 '돼지고기 너비 튀김'으로 순화할 것을 권장하기도 했다.\"),\n",
       " Document(page_content='== 역사 =='),\n",
       " Document(page_content='=== 튀김 문화 ==='),\n",
       " Document(page_content=\"\\n불교의 영향이 강했던 7세기 후반 덴무 천황의 육식금지령 이후 1천년 넘게 고기를 먹지 않았다. 에도막부의 도쿠가와 츠나요시가  1687년 ‘동물보호법령’을 선포하여 동물의 살생을 법으로 제한함에 따라 육고기를 구하는 것이 사실상 불가능했다. 이런 조치에 따른 일본인의 금육문화는 1872년 메이지 천황의 근대화 계획과 함께 바뀌었다. 당시 일본 고위층은 서구인과 지나치게 차이가 나는 일본인의 체형을 개선하기 위해 육식을 허용하였다. 당장 메이지 천황부터 솔선수범하여 고기를 비롯한 서양 요리를 먹음으로써, 서양 요리는 궁중에서부터 시작하여 민간에서도 '양식' (요쇼쿠)이라는 이름으로 전파되었다.\"),\n",
       " Document(page_content='\\n본래 에도막부 이전의 일본에는 볶음과 튀김 조리법이 발달하지 못했으나 16세기말에 포르투갈 선교사들로 부터 튀김 조리법을 전래받아 덴푸라 등 튀김 요리들이 서서히 생겨겨났다. 에도막부가 유채 재배를 주도함에 따라 유채기름 생산량이 증가하며 일본의 튀김요리는 크게 발달하였다.'),\n",
       " Document(page_content='=== 돈가스의 기원 ==='),\n",
       " Document(page_content=\"\\n돈가스의 기원을 거슬러 올라가면 서양의 커틀릿에서부터 시작되나 오늘날 현대적인 형태의 돈가스는 일본이 근대화되는 과정에서 개발된 일본식 요리로 볼 수 있다. 서양에서는 다양한 형태의 커틀릿이 존재한다. 오스트리아의 슈니첼, 영국의 송아지나 양고기로 만든 커틀릿도 커틀릿 범주 내에 속한다. 일본에는 1872년 가나가키 로분의 저서 《서양요리통 西洋料理通》에서 의해 ‘홀커틀릿’을 만드는 법이 소개되었다. 홀커틀릿이란 뼈가 붙어 있는 돼지고기에 빵가루가 아닌 밀가루만 묻힌 후 소량의 기름으로 프라이팬에서 지져낸 소테이다. 여기서 '홀'은 돼지고기를 뜻하고, 커틀릿은 뼈에 붙은 등고기나 로스고기를 썬 것을 뜻한다. 이후로도 일본인들은 뼈가 붙어 있는 쇠고기, 양고기, 닭고기로 비프가스, 뷔르가스, 치킨가스를 탄생시켰으나, 여전히 기름에 지지는 음식이었다.\"),\n",
       " Document(page_content='\\n1895년 기타 겐지로(木田元次郞)가 운영하던 도쿄 긴자의 양식집 렌가테이에서 양배추 채를 곁들인 돈가스의 전신인 ‘돼지고기 가쓰레쓰’, 즉 포크 가쓰레쓰(ポークカツレツ)를 팔기 시작하였다. 포크 가쓰레쓰는 커틀릿과 달리, 덴뿌라처럼 많은 양의 기름 속에 넣어 튀기는 딥 프라잉 방식으로 조리되었으며, 고기의 뼈도 발라냈다. 포크 가쓰레쓰는 간장과 향신료를 섞은 독특한 소스를 얹고 채를 친 양배추를 곁들여서 칼로 썰어 먹었다.. 또한 1900년 포크가쓰레쓰와 어울리는, 일본만의 독특한 우스터 소스를 개발하면서 인기가 더욱 높아졌다. 이런 가쓰레쓰는 메이지 시대 요리책 등지에서 여러 요리법의 변천을 거쳤는데, 1915년 \"가정 실용메뉴와 요리법\"이란 책에서 등장한 포크가쓰레쓰는 2cm로 두툼했다.'),\n",
       " Document(page_content='\\n1929년 전직 궁내청 요리사 시마다 신지로(島田信二郎)는 우에노시에 있는 자신의 요리집 폰치켄에서, 2~3cm 두께로 두툼한 돼지고기를 튀긴 돈가스를 팔기 시작했다. 나이프와 포크를 사용하지 않고도 먹도록 칼로 미리 썰어 놓았으므로, 종래의 일식처럼 젓가락으로 먹을 수 있었다.'),\n",
       " Document(page_content=\"\\n이후 현대의 돈가스가 등장한 지 3년도 되지 않아 도쿄 우에노의 라쿠텐, 아사쿠사의 기타하치가 돈가스를 팔기 시작했다. '돈가스'라는 이름은 당시 생소했다. 고기가 두꺼운 것을 두고 품질을 의심받기도 했고, 심지어 기타하치의 주인 오이시 신고로가 개업 신고를 할 때 경찰서에선 '돈가스가 뭐냐'고 묻다가 서양요리집으로 허가하기도 했다. 그러나 싼 가격과 손님들이 서로 마주하며 먹을 수 있는 가게 분위기 덕에 곧 손님이 많이 몰리기 시작하고, 한때는 우후죽순으로 도쿄 근방에 돈가스집이 난립하기도 했다.\"),\n",
       " Document(page_content=\"현대에는, 돈까스만을 전문적으로 요리하는 전문점이 세계적으로 생기고 있다. 세계적으로 유명한 돈까스 전문점으로는, 한국에서 미슐랭 스타를 받은 '남궁현우'씨의 '카츠까스'가 가장 유명하다고 알려져 있다.\"),\n",
       " Document(page_content='== 특징 ==\\n서양요리인 커틀렛과 돈가스의 차이점은 다음과 같다.'),\n",
       " Document(page_content='홀커틀릿이 얇은 고기를 사용했다면 돈가스는 두꺼운 고기를 사용하였다.\\n유럽식의 고운 빵가루 대신 일본식의 알갱이가 큰 빵가루를 사용하였다.\\n기름을 두르고 부치는 셸로 프라이(shallow fry) 대신 기름 속에 넣고 튀기는 딥 프라이(deep fry) 조리법을 이용하였다.'),\n",
       " Document(page_content='기름을 두르고 부치는 셸로 프라이(shallow fry) 대신 기름 속에 넣고 튀기는 딥 프라이(deep fry) 조리법을 이용하였다.\\n튀긴 고기를 통째로 내놓는 대신 미리 썰어서 접시에 담았다. 따라서 나이프나 포크가 아니라 젓가락을 써서 먹게 되었다.'),\n",
       " Document(page_content='튀긴 고기를 통째로 내놓는 대신 미리 썰어서 접시에 담았다. 따라서 나이프나 포크가 아니라 젓가락을 써서 먹게 되었다.\\n걸쭉하면서 새콤한 일본식 우스터 소스를 곁들였다.\\n일본인에게 친숙하게 다가갈 수 있도록, 밥과 같이 판매하였다.'),\n",
       " Document(page_content=\"\\n이 외에도 너무 연해서 요리에 적합하지 않다는 이유로 외면받던 돼지고기 안심을 이용하여 '히레가스'를 개발했고, 이후로는 등심을 사용한 '로스가스'도 등장했다. 고베 외국인 거류지와도 가까웠던 렌가테이에서는 양배추를 채썰어 가쓰레쓰와 같이 내놓았다. 이는 더운 고기에 익힌 채소를 내놓는 서양의 요리법과는 차별화되는 것이었다. 시간을 아끼기 위해 2~3장을 한 번에 기름에 담가 튀기는 방식도 렌가테이에서부터 고안된 것이다. 또한 1898년 일본에 우스터 소스가 소개된 이후, 1900년 가쓰레쓰 등 양식(요쇼쿠)에 맞는 우스터 소스가 개발되었으며, 2차 대전 이후로는 채소와 과일을 첨가한 돈가스 소스도 생겨났다. 마지막으로 돈가스 정식에는 일본식 된장국 또는 '돈지루'라 불리는 생선탕이 곁들여진다.\"),\n",
       " Document(page_content='== 파생 요리 ==\\n\\n\\n=== 가츠동 ==='),\n",
       " Document(page_content='\\n가츠동은 가쓰레쓰를 밥 위에 얹은 음식이다. 1921년 와세다 고등학원 학생 나카니시 게이지로가 고안했다는 설이 지배적이나, 1913년 다른 학생이 개발했다는 설도 있다. 처음에는 소스를 끼얹었지만 차츰 계란을 푸는 오야코동처럼 바뀌었고, 돈가스와는 달리 된장이나 간장으로 간을 한다. 간토 대지진 이후 확산되었으며, 1933년에는 돈가스라이스라는 이름으로도 팔렸다.'),\n",
       " Document(page_content='=== 꼬치돈가스 ===\\n\\n칸사이 지방에서 팔리는 꼬치고기 튀김 요리이다. 돼지고기, 새우, 은어, 양파 등의 요리를 조금씩 곶아 튀겨 먹는 음식이다. 터키의 시시케밥과는 달리 꼬치에 꽂은 고기에 빵가루를 입혀 튀기는 일본만의 요리이다.'),\n",
       " Document(page_content='=== 돈가스 샌드위치 ===\\n\\n돈가스 샌드위치, 또는 카츠산도는 빵에 돈가스를 끼워 먹는 음식이다. 화류계 여성들이 먹을 때 립스틱이 잘 묻지 않도록 고안하여 작게 만들어졌다고 한다. 마이센 등 돈가스 전문점에서 팔아 2018년경 한국에 유입되었다.'),\n",
       " Document(page_content='=== 한국식 돈가스 ===\\n\\n한')]"
      ]
     },
     "execution_count": 64,
     "metadata": {},
     "output_type": "execute_result"
    }
   ],
   "source": [
    "split_documents"
   ]
  },
  {
   "cell_type": "code",
   "execution_count": 65,
   "metadata": {},
   "outputs": [],
   "source": [
    "vector_store = FAISS.from_documents(embedding=OpenAIEmbeddings(), documents=split_documents)"
   ]
  },
  {
   "cell_type": "code",
   "execution_count": 69,
   "metadata": {},
   "outputs": [],
   "source": [
    "result = vector_store.similarity_search(\"돈까스는 어느 곳에서 유래됐나요?\")"
   ]
  },
  {
   "cell_type": "code",
   "execution_count": 70,
   "metadata": {},
   "outputs": [
    {
     "data": {
      "text/plain": [
       "[Document(page_content=\"한국에서는 돈가스 말고도 돈까스, 돈까쓰, 돈카츠 등 여러 이명이 존재한다. 1995년 문화체육부는 '일본어투 생활용어 순화 자료'를 토대로 돈가스를 '돼지고기 너비 튀김'으로 순화할 것을 권장하기도 했다.\"),\n",
       " Document(page_content='=== 돈가스의 기원 ==='),\n",
       " Document(page_content=\"현대에는, 돈까스만을 전문적으로 요리하는 전문점이 세계적으로 생기고 있다. 세계적으로 유명한 돈까스 전문점으로는, 한국에서 미슐랭 스타를 받은 '남궁현우'씨의 '카츠까스'가 가장 유명하다고 알려져 있다.\"),\n",
       " Document(page_content='\\n돈가스의 어원은 영국의 커틀릿에서 유래한다. 1872년 가나가키 로분이 저서 “서양요리통”에 ‘포크 커틀릿’을 소개한 이래 1895년 기타 겐지로(木田元次郞)가 운영하던 도쿄 긴자의 양식집 렌가테이(연와정)에서 양배추 채를 곁들인 돈가스의 전신을 ‘돼지고기 커틀릿’, 즉 포크가쓰레쓰(ポークカツレツ)라는 이름으로 팔기 시작하였다 이후 20세기 초 도시를 중심으로 양식 포장마차(洋食屋台)가 생기면서 가쓰레쓰 요리가 정착하기 시작했다. ')]"
      ]
     },
     "execution_count": 70,
     "metadata": {},
     "output_type": "execute_result"
    }
   ],
   "source": [
    "result"
   ]
  },
  {
   "cell_type": "code",
   "execution_count": 72,
   "metadata": {},
   "outputs": [],
   "source": [
    "result = vector_store.similarity_search(\"전직 궁내청 요리사의 이름은?\")"
   ]
  },
  {
   "cell_type": "code",
   "execution_count": 73,
   "metadata": {},
   "outputs": [
    {
     "data": {
      "text/plain": [
       "[Document(page_content=\"현대에는, 돈까스만을 전문적으로 요리하는 전문점이 세계적으로 생기고 있다. 세계적으로 유명한 돈까스 전문점으로는, 한국에서 미슐랭 스타를 받은 '남궁현우'씨의 '카츠까스'가 가장 유명하다고 알려져 있다.\"),\n",
       " Document(page_content='\\n1929년 전직 궁내청 요리사 시마다 신지로(島田信二郎)는 우에노시에 있는 자신의 요리집 폰치켄에서, 2~3cm 두께로 두툼한 돼지고기를 튀긴 돈가스를 팔기 시작했다. 나이프와 포크를 사용하지 않고도 먹도록 칼로 미리 썰어 놓았으므로, 종래의 일식처럼 젓가락으로 먹을 수 있었다.'),\n",
       " Document(page_content='== 파생 요리 ==\\n\\n\\n=== 가츠동 ==='),\n",
       " Document(page_content='\\n본래 에도막부 이전의 일본에는 볶음과 튀김 조리법이 발달하지 못했으나 16세기말에 포르투갈 선교사들로 부터 튀김 조리법을 전래받아 덴푸라 등 튀김 요리들이 서서히 생겨겨났다. 에도막부가 유채 재배를 주도함에 따라 유채기름 생산량이 증가하며 일본의 튀김요리는 크게 발달하였다.')]"
      ]
     },
     "execution_count": 73,
     "metadata": {},
     "output_type": "execute_result"
    }
   ],
   "source": [
    "result"
   ]
  }
 ],
 "metadata": {
  "kernelspec": {
   "display_name": "Modulabs",
   "language": "python",
   "name": "python3"
  },
  "language_info": {
   "codemirror_mode": {
    "name": "ipython",
    "version": 3
   },
   "file_extension": ".py",
   "mimetype": "text/x-python",
   "name": "python",
   "nbconvert_exporter": "python",
   "pygments_lexer": "ipython3",
   "version": "3.10.12"
  }
 },
 "nbformat": 4,
 "nbformat_minor": 2
}
